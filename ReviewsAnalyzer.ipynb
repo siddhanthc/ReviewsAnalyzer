{
 "cells": [
  {
   "cell_type": "markdown",
   "metadata": {},
   "source": [
    "# Reviews Analyzer"
   ]
  },
  {
   "cell_type": "markdown",
   "metadata": {},
   "source": [
    "The objective of this analysis is threefold:\n",
    "1. Word association identification\n",
    "2. Contextual sentiment extraction\n",
    "3. Theme/topic assignment to word clusters\n",
    "\n",
    "The dataset used for the purpose of this analysis consists of [hotel reviews](https://code.google.com/archive/p/dataset/downloads) mined from [Tripadvisor.com](http://tripadvisor.com)"
   ]
  },
  {
   "cell_type": "markdown",
   "metadata": {},
   "source": [
    "### Lets load the data\n",
    "Hotel reviews are available for the cities of Beijing, Chicago, Dubai, Las-Vegas, London, Montreal, New-Delhi, New-York-City, San-Francisco and Shanghai spanning the years 2003 - 2010. For the purpose of this analysis, the city has been set to *chicago* and year to *2007*. These settings however **can** be changed. "
   ]
  },
  {
   "cell_type": "code",
   "execution_count": 1,
   "metadata": {},
   "outputs": [
    {
     "name": "stdout",
     "output_type": "stream",
     "text": [
      "Done reading data\n"
     ]
    }
   ],
   "source": [
    "# Load necessary libraries\n",
    "import numpy as np\n",
    "import nltk\n",
    "\n",
    "# Load custom module\n",
    "import helperFunctions as hf\n",
    "\n",
    "# Read Hotel Reviews Data into a data frame\n",
    "dataPath = 'OpinRankDataSet/hotels/'\n",
    "city = 'chicago'\n",
    "year = '2007'\n",
    "hotelReviewCount, reviewsDF = hf.readReviewsData(dataPath, city, year)\n",
    "print('Done reading data')"
   ]
  },
  {
   "cell_type": "code",
   "execution_count": null,
   "metadata": {
    "collapsed": true
   },
   "outputs": [],
   "source": [
    "# Load custom module\n",
    "import helperFunctions as hf"
   ]
  },
  {
   "cell_type": "markdown",
   "metadata": {
    "collapsed": true
   },
   "source": [
    "### Clean up the text\n",
    "Cleaning mainly involves removal of noisy characters, stopwords, case normalization and stemming. A mapping is also created between words and their stemmed forms, so that extracting the actual word is possible."
   ]
  },
  {
   "cell_type": "code",
   "execution_count": 2,
   "metadata": {},
   "outputs": [
    {
     "name": "stdout",
     "output_type": "stream",
     "text": [
      "Done corpus processing\n",
      "Done creating unstem dictionary\n"
     ]
    }
   ],
   "source": [
    "# Create combined reviews corpus from all reviews for different applications\n",
    "combinedCorpus = reviewsDF['FullReview'].str.cat(sep=' ')\n",
    "corpusOnlyChar = hf.preprocessText(combinedCorpus,onlyChar=True,lower=True,stopw=False,stem=False)\n",
    "corpusNoStop   = hf.preprocessText(corpusOnlyChar,onlyChar=False,lower=False,stopw=True,stem=False)\n",
    "corpusStem     = hf.preprocessText(corpusNoStop,onlyChar=False,lower=False,stopw=False,stem=True)\n",
    "print('Done corpus processing')\n",
    "\n",
    "# Create the unstem dictionary for the corpus\n",
    "unstemDict = {}\n",
    "corpusTrim = np.array(corpusNoStop.split())\n",
    "hf.unstem(corpusTrim,unstemDict)\n",
    "corpusTrim = list(corpusTrim)\n",
    "print('Done creating unstem dictionary')"
   ]
  },
  {
   "cell_type": "markdown",
   "metadata": {},
   "source": [
    "### A quick look at the most frequent terms in the corpus"
   ]
  },
  {
   "cell_type": "code",
   "execution_count": 3,
   "metadata": {},
   "outputs": [
    {
     "name": "stdout",
     "output_type": "stream",
     "text": [
      "Here is a list of the top-most occurring words in the corpus:\n"
     ]
    },
    {
     "data": {
      "image/png": "[encoded data removed]",
      "text/plain": [
       "<matplotlib.figure.Figure at 0x147d8cc0>"
      ]
     },
     "metadata": {},
     "output_type": "display_data"
    }
   ],
   "source": [
    "import matplotlib as mpl\n",
    "import matplotlib.pyplot as plt\n",
    "from wordcloud import WordCloud, STOPWORDS\n",
    "\n",
    "# Extract the most frequent words (excluding stopwords)\n",
    "cleanReview = reviewsDF['FullReview'].apply(hf.preprocessText)\n",
    "mostFreqWords = hf.getMostFrequentWords(cleanReview,unstemDict,5)\n",
    "\n",
    "print('Here is a list of the top-most occurring words in the corpus:')\n",
    "freqWordsDict = mostFreqWords[:20].to_dict()['Count']\n",
    "freqCloud = WordCloud(background_color='white',\n",
    "                      width=1000,\n",
    "                      height=800,\n",
    "                      scale = 5,\n",
    "                      random_state=10,\n",
    "                      min_font_size=6).generate_from_frequencies(freqWordsDict)\n",
    "plt.imshow(freqCloud)\n",
    "plt.axis('off')\n",
    "plt.show()"
   ]
  },
  {
   "cell_type": "markdown",
   "metadata": {},
   "source": [
    "### Word Association\n",
    "\n",
    "Although word association has many connotations, it can be broadly classified into two types:\n",
    "1. **Paradigmatic Association**: These words are associated because they appear in a similar context. Paradigmatically associated words can be used interchangeably in a sentence without affecting its semantics. Eg: \"I bumped into my friend while on my way to work\". Here *work* can be replaced with *college* without affecting the semantic correctness of the sentence.\n",
    "2. **Syntagmatic Association**: These words are associated because they are typically collocated. Syntagmatically associated words often occur together in a sentence. Eg: \"The person at the front desk assited me\". The words *front desk* are collocated and often occur together.\n",
    "\n",
    "Both these associations have been mined for in the reviews."
   ]
  },
  {
   "cell_type": "markdown",
   "metadata": {},
   "source": [
    "#### Paradigmatic Association\n",
    "Paradigmatic associations have been mined by looking at the context around words for window size upto 3. Results obtained by including and excluding stopwords have been combined (stopwords like prepositions and determinants can help while looking at context).\n",
    "\n",
    "Here is an example for paradigmatically associated words in the corpus. The example word **breakfast** can be replaced with another word to finds its associations in the corpus"
   ]
  },
  {
   "cell_type": "code",
   "execution_count": 5,
   "metadata": {},
   "outputs": [
    {
     "name": "stdout",
     "output_type": "stream",
     "text": [
      "Here is a list of words associated with breakfast\n"
     ]
    },
    {
     "data": {
      "image/png": "[encoded data removed]",
      "text/plain": [
       "<matplotlib.figure.Figure at 0x71863320>"
      ]
     },
     "metadata": {},
     "output_type": "display_data"
    }
   ],
   "source": [
    "# Find Similar Words (appearing in similar contexts)\n",
    "from nltk import ContextIndex\n",
    "corpusOnlyChar = hf.preprocessText(combinedCorpus,onlyChar=True,lower=True,stopw=False,stem=False)\n",
    "reviewContextFull3W = ContextIndex(tokens=corpusOnlyChar.split(),context_func=hf.contextFunc3W)\n",
    "reviewContextFull2W = ContextIndex(tokens=corpusOnlyChar.split(),context_func=hf.contextFunc2W)\n",
    "reviewContextStop2W = ContextIndex(tokens=corpusNoStop.split(),context_func=hf.contextFunc2W)\n",
    "\n",
    "word = 'breakfast' #<------------change word here to see other associations\n",
    "similarWords = hf.getSimilarWords(word, reviewContextFull3W, reviewContextFull2W, reviewContextStop2W, numWords=20)\n",
    "\n",
    "similarWords = similarWords.to_dict()\n",
    "similarWordsDict = [similarWords[di] for di in similarWords][0]\n",
    "print('Here is a list of words associated with '+ word)\n",
    "freqCloud = WordCloud(background_color='white',\n",
    "                      width=1000,\n",
    "                      height=800,\n",
    "                      scale = 5,\n",
    "                      random_state=10,\n",
    "                      min_font_size=6).generate_from_frequencies(similarWordsDict)\n",
    "plt.imshow(freqCloud)\n",
    "plt.axis('off')\n",
    "plt.show()"
   ]
  },
  {
   "cell_type": "markdown",
   "metadata": {},
   "source": [
    "#### Syntagmatic Association\n",
    "Syntagmatic associations have been mined by looking at how frequently do bi-grams occur in the corpus. The bi-grams need not be coniguous. Stop words have been ignored.\n",
    "\n",
    "Here is an example for syntagmatically associated words in the corpus. The top ten most frequently occurring bi-grams are shown."
   ]
  },
  {
   "cell_type": "code",
   "execution_count": 4,
   "metadata": {},
   "outputs": [
    {
     "name": "stdout",
     "output_type": "stream",
     "text": [
      "Here is a list of top frequently occurring collocated words\n"
     ]
    },
    {
     "data": {
      "image/png": "[encoded data removed]",
      "text/plain": [
       "<matplotlib.figure.Figure at 0x13379710>"
      ]
     },
     "metadata": {},
     "output_type": "display_data"
    }
   ],
   "source": [
    "# Find Collocated Words (words appearing together in a phrase)\n",
    "from nltk.collocations import BigramCollocationFinder\n",
    "windowSize = 3 # Increase this parameter to discover more spaced out bi-grams. Typically syntagmatic words lie in close proximity\n",
    "finder = BigramCollocationFinder.from_words(corpusStem.split(), windowSize)\n",
    "collocationWords = hf.getCollocatedWords(finder,unstemDict,numPairs=10)\n",
    "\n",
    "print('Here is a list of top frequently occurring collocated words')\n",
    "freqCloud = WordCloud(background_color='white',\n",
    "                      width=1000,\n",
    "                      height=800,\n",
    "                      scale = 5,\n",
    "                      random_state=10,\n",
    "                      min_font_size=6).generate_from_frequencies(collocationWords)\n",
    "plt.imshow(freqCloud)\n",
    "plt.axis('off')\n",
    "plt.show()"
   ]
  },
  {
   "cell_type": "markdown",
   "metadata": {},
   "source": [
    "### Contextual Sentiment Analysis\n",
    "Contextual sentiments are typically extracted from smaller phrases which could have either a postive, negative or neutral sentiment. So, there could be many different sentiments expressed in the same paragraph of text. From a *reviews* perspective, it make sense to look at what aspect of the product/service was the consumer happy/unhappy about. That is exactly what is being done in this analysis.\n",
    "\n",
    "\n",
    "Since the dataset at our disposal is not labelled for sentiment, a rule-based classifier *(VADER-Valence Aware Dictionary and sEntiment Reasoner)* is used to extract sentiments from each sentence. Once the sentiment is known, the *object* that the sentiment is referring to is identified by looking for nouns and noun phrases. This is further filtered by comparing with a list of frequently occuring noun words in the corpus that could be associated with either a product or service. The sentiments are then aggregated from the entire review.\n",
    "\n",
    "Have a look!"
   ]
  },
  {
   "cell_type": "code",
   "execution_count": 21,
   "metadata": {},
   "outputs": [
    {
     "name": "stdout",
     "output_type": "stream",
     "text": [
      "Sentiments expressed in this review:\n",
      "Great Hotel. This is a nice hotel in a great location. I had heard that the rooms were so small as to be laughable, but our room was not small at all. The concierge was very helpful, and the hotel was clean and attractive. If you're claustrophobic, you might want to avoid the elevators. I would definitely stay there again.\n"
     ]
    },
    {
     "data": {
      "text/plain": [
       "{'a great location': 'positive',\n",
       " 'a nice hotel': 'positive',\n",
       " 'claustrophobic': 'negative',\n",
       " 'elevators': 'negative',\n",
       " 'room': 'neutral',\n",
       " 'the concierge': 'positive'}"
      ]
     },
     "execution_count": 21,
     "metadata": {},
     "output_type": "execute_result"
    }
   ],
   "source": [
    "# Find Contextual Sentiments\n",
    "cleanReview = reviewsDF['FullReview'].apply(hf.preprocessText)\n",
    "\n",
    "# Get a list of frequent terms that could be associated with the domains (in this case 'hotel') product/service\n",
    "mostFreqWords = hf.getMostFrequentWords(cleanReview,unstemDict,minThresh=5)\n",
    "posTaggedWords = nltk.pos_tag(list(mostFreqWords.index))\n",
    "hotelWords = [w for w,tag in posTaggedWords if tag == 'NN']\n",
    "\n",
    "# Select a review and identify the associated sentiments\n",
    "REVIEW = reviewsDF['FullReview'][80] #<---------------- Pick another review by chaning the index value\n",
    "reviewSentiments = hf.getContextualSentiment(REVIEW, domainWords = hotelWords)\n",
    "print('Sentiments expressed in this review:\\n' + REVIEW)\n",
    "reviewSentiments"
   ]
  },
  {
   "cell_type": "markdown",
   "metadata": {},
   "source": [
    "### Theme/Topic Identifcation\n",
    "The objective here is to assign a theme to a cluster of associated words extracted from the corpus. The words could be describing a related phenomenon. There are two steps here: \n",
    "1. To identify clusters of associated terms. This is done by first building a TFIDF matrix of frequently occuring terms and the contexts in which they occur. K-means is then used to partition these terms into clusters that are homogenous.\n",
    "2. Once the clusters of terms are obtained, the theme/subject/topic that each term in the cluster could be referring to is identified. This is done with the help of the WordNet lexicon. For each term all the hyponyms (parent terms from which the term is derived) are identified. Then the parent term that is most common across all the terms in the cluster is chosen as the theme for the cluster. This seems to work pretty well.\n",
    "\n",
    "Lets have a look at the clusters and what themes they are ascribing to."
   ]
  },
  {
   "cell_type": "code",
   "execution_count": 27,
   "metadata": {},
   "outputs": [
    {
     "name": "stdout",
     "output_type": "stream",
     "text": [
      "Here is a list of top frequently occurring collocated words\n"
     ]
    },
    {
     "ename": "IndexError",
     "evalue": "list index out of range",
     "output_type": "error",
     "traceback": [
      "\u001b[1;31m---------------------------------------------------------------------------\u001b[0m",
      "\u001b[1;31mIndexError\u001b[0m                                Traceback (most recent call last)",
      "\u001b[1;32m<ipython-input-27-a9f16b514b77>\u001b[0m in \u001b[0;36m<module>\u001b[1;34m()\u001b[0m\n\u001b[0;32m     27\u001b[0m                       \u001b[0mscale\u001b[0m \u001b[1;33m=\u001b[0m \u001b[1;36m3\u001b[0m\u001b[1;33m,\u001b[0m\u001b[1;33m\u001b[0m\u001b[0m\n\u001b[0;32m     28\u001b[0m                       \u001b[0mrandom_state\u001b[0m\u001b[1;33m=\u001b[0m\u001b[1;36m10\u001b[0m\u001b[1;33m,\u001b[0m\u001b[1;33m\u001b[0m\u001b[0m\n\u001b[1;32m---> 29\u001b[1;33m                       min_font_size=6).generate_from_frequencies(clusterList[plotCount])\n\u001b[0m\u001b[0;32m     30\u001b[0m         \u001b[0msbplts\u001b[0m\u001b[1;33m[\u001b[0m\u001b[0mi\u001b[0m\u001b[1;33m,\u001b[0m\u001b[0mj\u001b[0m\u001b[1;33m]\u001b[0m\u001b[1;33m.\u001b[0m\u001b[0mimshow\u001b[0m\u001b[1;33m(\u001b[0m\u001b[0mtermCloud\u001b[0m\u001b[1;33m)\u001b[0m\u001b[1;33m\u001b[0m\u001b[0m\n\u001b[0;32m     31\u001b[0m         \u001b[0msbplts\u001b[0m\u001b[1;33m[\u001b[0m\u001b[0mi\u001b[0m\u001b[1;33m,\u001b[0m\u001b[0mj\u001b[0m\u001b[1;33m]\u001b[0m\u001b[1;33m.\u001b[0m\u001b[0maxis\u001b[0m\u001b[1;33m(\u001b[0m\u001b[1;34m'off'\u001b[0m\u001b[1;33m)\u001b[0m\u001b[1;33m\u001b[0m\u001b[0m\n",
      "\u001b[1;31mIndexError\u001b[0m: list index out of range"
     ]
    }
   ],
   "source": [
    "# Get similar word clusters along with topic\n",
    "cleanReview = reviewsDF['FullReview'].apply(hf.preprocessText,stopw=True,minLen = True)\n",
    "cleanReview = cleanReview.str.cat(sep=' ')\n",
    "maxClusters = 10\n",
    "clusterDict = hf.getThemeClusters(cleanReview,mostFreqWords,unstemDict,maxClusters)\n",
    "\n",
    "# Modify cluster dict for plotting\n",
    "clusterList = []\n",
    "for dic in clusterDict:\n",
    "    themeList = [(dic,5)]\n",
    "    termList = [(term,1) for term in clusterDict[dic]]\n",
    "    themeList.extend(termList)\n",
    "    themeDict = dict(themeList)\n",
    "    clusterList.append(themeDict)\n",
    "    \n",
    "print('Here is a list of top frequently occurring collocated words')\n",
    "numClusters = len(clusterList)\n",
    "f, sbplts = plt.subplots(2,5)\n",
    "plotCount = 0\n",
    "for i in range(5):\n",
    "    for j in range(5):\n",
    "        termCloud = WordCloud(background_color='white',\n",
    "                      width=1000,\n",
    "                      height=800,\n",
    "                      scale = 3,\n",
    "                      random_state=10,\n",
    "                      min_font_size=6).generate_from_frequencies(clusterList[plotCount])\n",
    "        sbplts[i,j].imshow(termCloud)\n",
    "        sbplts[i,j].axis('off')\n",
    "        plotCount = plotCount+1\n",
    "        if plotCount == numClusters:\n",
    "            print(plotCount)\n",
    "            break\n",
    "            \n",
    "plt.show()"
   ]
  },
  {
   "cell_type": "code",
   "execution_count": 28,
   "metadata": {},
   "outputs": [
    {
     "data": {
      "text/plain": [
       "6"
      ]
     },
     "execution_count": 28,
     "metadata": {},
     "output_type": "execute_result"
    }
   ],
   "source": [
    "plotCount"
   ]
  }
 ],
 "metadata": {
  "kernelspec": {
   "display_name": "Python 3",
   "language": "python",
   "name": "python3"
  },
  "language_info": {
   "codemirror_mode": {
    "name": "ipython",
    "version": 3
   },
   "file_extension": ".py",
   "mimetype": "text/x-python",
   "name": "python",
   "nbconvert_exporter": "python",
   "pygments_lexer": "ipython3",
   "version": "3.6.1"
  }
 },
 "nbformat": 4,
 "nbformat_minor": 2
}
