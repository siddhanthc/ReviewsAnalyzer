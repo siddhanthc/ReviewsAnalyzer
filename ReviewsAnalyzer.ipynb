{
 "cells": [
  {
   "cell_type": "markdown",
   "metadata": {},
   "source": [
    "# Reviews Analyzer"
   ]
  },
  {
   "cell_type": "markdown",
   "metadata": {},
   "source": [
    "The objective of this analysis is threefold:\n",
    "1. Word association identification\n",
    "2. Contextual sentiment extraction\n",
    "3. Theme/topic assignment to word clusters\n",
    "\n",
    "The dataset used for the purpose of this analysis consists of [hotel reviews](https://code.google.com/archive/p/dataset/downloads) mined from [Tripadvisor.com](http://tripadvisor.com)"
   ]
  },
  {
   "cell_type": "markdown",
   "metadata": {},
   "source": [
    "### Lets load the data\n",
    "Hotel reviews are available for the cities of Beijing, Chicago, Dubai, Las-Vegas, London, Montreal, New-Delhi, New-York-City, San-Francisco and Shanghai spanning the years 2003 - 2010. For the purpose of this analysis, the city has been set to *chicago* and year to *2007*. These settings however **can** be changed. "
   ]
  },
  {
   "cell_type": "code",
   "execution_count": 11,
   "metadata": {},
   "outputs": [
    {
     "name": "stdout",
     "output_type": "stream",
     "text": [
      "Done reading data\n"
     ]
    }
   ],
   "source": [
    "# Load necessary libraries\n",
    "import numpy as np\n",
    "import nltk\n",
    "\n",
    "\n",
    "\n",
    "# Read Hotel Reviews Data into a data frame\n",
    "dataPath = 'OpinRankDataSet/hotels/'\n",
    "city = 'chicago'\n",
    "year = '2007'\n",
    "hotelReviewCount, reviewsDF = hf.readReviewsData(dataPath, city, year)\n",
    "print('Done reading data')"
   ]
  },
  {
   "cell_type": "code",
   "execution_count": 35,
   "metadata": {
    "collapsed": true
   },
   "outputs": [],
   "source": [
    "# Load custom module\n",
    "import helperFunctions as hf"
   ]
  },
  {
   "cell_type": "markdown",
   "metadata": {
    "collapsed": true
   },
   "source": [
    "### Clean up the text\n",
    "Cleaning mainly involves removal of noisy characters, stopwords, case normalization and stemming. A mapping is also created between words and their stemmed forms, so that extracting the actual word is possible."
   ]
  },
  {
   "cell_type": "code",
   "execution_count": 12,
   "metadata": {},
   "outputs": [
    {
     "name": "stdout",
     "output_type": "stream",
     "text": [
      "Done corpus processing\n",
      "Done creating unstem dictionary\n"
     ]
    }
   ],
   "source": [
    "# Create combined reviews corpus from all reviews for different applications\n",
    "combinedCorpus = reviewsDF['FullReview'].str.cat(sep=' ')\n",
    "corpusOnlyChar = hf.preprocessText(combinedCorpus,onlyChar=True,lower=True,stopw=False,stem=False)\n",
    "corpusNoStop   = hf.preprocessText(corpusOnlyChar,onlyChar=False,lower=False,stopw=True,stem=False)\n",
    "corpusStem     = hf.preprocessText(corpusNoStop,onlyChar=False,lower=False,stopw=False,stem=True)\n",
    "print('Done corpus processing')\n",
    "\n",
    "# Create the unstem dictionary for the corpus\n",
    "unstemDict = {}\n",
    "corpusTrim = np.array(corpusNoStop.split())\n",
    "hf.unstem(corpusTrim,unstemDict)\n",
    "corpusTrim = list(corpusTrim)\n",
    "print('Done creating unstem dictionary')"
   ]
  },
  {
   "cell_type": "markdown",
   "metadata": {},
   "source": [
    "### A quick look at the most frequent terms in the corpus"
   ]
  },
  {
   "cell_type": "code",
   "execution_count": 27,
   "metadata": {},
   "outputs": [
    {
     "name": "stdout",
     "output_type": "stream",
     "text": [
      "Here is a list of the top-most occurring words in the corpus:\n"
     ]
    },
    {
     "data": {
      "image/png": "[encoded data removed]",
      "text/plain": [
       "<matplotlib.figure.Figure at 0x141f1cf8>"
      ]
     },
     "metadata": {},
     "output_type": "display_data"
    }
   ],
   "source": [
    "import matplotlib as mpl\n",
    "import matplotlib.pyplot as plt\n",
    "from wordcloud import WordCloud, STOPWORDS\n",
    "\n",
    "# Extract the most frequent words (excluding stopwords)\n",
    "cleanReview = reviewsDF['FullReview'].apply(hf.preprocessText)\n",
    "mostFreqWords = hf.getMostFrequentWords(cleanReview,unstemDict,5)\n",
    "\n",
    "print('Here is a list of the top-most occurring words in the corpus:')\n",
    "freqWordsDict = mostFreqWords[:20].to_dict()['Count']\n",
    "freqCloud = WordCloud(background_color='white',\n",
    "                      width=1000,\n",
    "                      height=800,\n",
    "                      scale = 5,\n",
    "                      random_state=10,\n",
    "                      min_font_size=6).generate_from_frequencies(freqWordsDict)\n",
    "plt.imshow(freqCloud)\n",
    "plt.axis('off')\n",
    "plt.show()"
   ]
  },
  {
   "cell_type": "markdown",
   "metadata": {},
   "source": [
    "### Word Association\n",
    "\n",
    "Although word association has many connotations, it can be broadly classified into two types:\n",
    "1. **Paradigmatic Association**: These words are associated because they appear in a similar context. Paradigmatically associated words can be used interchangeably in a sentence without affecting its semantics. Eg: \"I bumped into my friend while on my way to work\". Here *work* can be replaced with *college* without affecting the semantic correctness of the sentence.\n",
    "2. **Syntagmatic Association**: These words are associated because they are typically collocated. Syntagmatically associated words often occur together in a sentence. Eg: \"The person at the front desk assited me\". The words *front desk* are collocated and often occur together.\n",
    "\n",
    "Both these associations have been mined for in the reviews."
   ]
  },
  {
   "cell_type": "markdown",
   "metadata": {},
   "source": [
    "#### Paradigmatic Association\n",
    "Here is an example for paradigmatically associated words in the corpus. The example word 'suite' can be replaced with another word to finds its associations in the corpus"
   ]
  },
  {
   "cell_type": "code",
   "execution_count": 36,
   "metadata": {},
   "outputs": [
    {
     "name": "stdout",
     "output_type": "stream",
     "text": [
      "Here is a list of words associated with suite\n"
     ]
    },
    {
     "ename": "AttributeError",
     "evalue": "'list' object has no attribute 'items'",
     "output_type": "error",
     "traceback": [
      "\u001b[1;31m---------------------------------------------------------------------------\u001b[0m",
      "\u001b[1;31mAttributeError\u001b[0m                            Traceback (most recent call last)",
      "\u001b[1;32m<ipython-input-36-f2d4d4385f47>\u001b[0m in \u001b[0;36m<module>\u001b[1;34m()\u001b[0m\n\u001b[0;32m     17\u001b[0m                       \u001b[0mscale\u001b[0m \u001b[1;33m=\u001b[0m \u001b[1;36m5\u001b[0m\u001b[1;33m,\u001b[0m\u001b[1;33m\u001b[0m\u001b[0m\n\u001b[0;32m     18\u001b[0m                       \u001b[0mrandom_state\u001b[0m\u001b[1;33m=\u001b[0m\u001b[1;36m10\u001b[0m\u001b[1;33m,\u001b[0m\u001b[1;33m\u001b[0m\u001b[0m\n\u001b[1;32m---> 19\u001b[1;33m                       min_font_size=6).generate_from_frequencies(similarWordsDict)\n\u001b[0m\u001b[0;32m     20\u001b[0m \u001b[0mplt\u001b[0m\u001b[1;33m.\u001b[0m\u001b[0mimshow\u001b[0m\u001b[1;33m(\u001b[0m\u001b[0mfreqCloud\u001b[0m\u001b[1;33m)\u001b[0m\u001b[1;33m\u001b[0m\u001b[0m\n\u001b[0;32m     21\u001b[0m \u001b[0mplt\u001b[0m\u001b[1;33m.\u001b[0m\u001b[0maxis\u001b[0m\u001b[1;33m(\u001b[0m\u001b[1;34m'off'\u001b[0m\u001b[1;33m)\u001b[0m\u001b[1;33m\u001b[0m\u001b[0m\n",
      "\u001b[1;32mC:\\Users\\302016405\\AppData\\Local\\Continuum\\Anaconda3\\lib\\site-packages\\wordcloud\\wordcloud.py\u001b[0m in \u001b[0;36mgenerate_from_frequencies\u001b[1;34m(self, frequencies, max_font_size)\u001b[0m\n\u001b[0;32m    348\u001b[0m         \"\"\"\n\u001b[0;32m    349\u001b[0m         \u001b[1;31m# make sure frequencies are sorted and normalized\u001b[0m\u001b[1;33m\u001b[0m\u001b[1;33m\u001b[0m\u001b[0m\n\u001b[1;32m--> 350\u001b[1;33m         \u001b[0mfrequencies\u001b[0m \u001b[1;33m=\u001b[0m \u001b[0msorted\u001b[0m\u001b[1;33m(\u001b[0m\u001b[0mfrequencies\u001b[0m\u001b[1;33m.\u001b[0m\u001b[0mitems\u001b[0m\u001b[1;33m(\u001b[0m\u001b[1;33m)\u001b[0m\u001b[1;33m,\u001b[0m \u001b[0mkey\u001b[0m\u001b[1;33m=\u001b[0m\u001b[0mitem1\u001b[0m\u001b[1;33m,\u001b[0m \u001b[0mreverse\u001b[0m\u001b[1;33m=\u001b[0m\u001b[1;32mTrue\u001b[0m\u001b[1;33m)\u001b[0m\u001b[1;33m\u001b[0m\u001b[0m\n\u001b[0m\u001b[0;32m    351\u001b[0m         \u001b[1;32mif\u001b[0m \u001b[0mlen\u001b[0m\u001b[1;33m(\u001b[0m\u001b[0mfrequencies\u001b[0m\u001b[1;33m)\u001b[0m \u001b[1;33m<=\u001b[0m \u001b[1;36m0\u001b[0m\u001b[1;33m:\u001b[0m\u001b[1;33m\u001b[0m\u001b[0m\n\u001b[0;32m    352\u001b[0m             raise ValueError(\"We need at least 1 word to plot a word cloud, \"\n",
      "\u001b[1;31mAttributeError\u001b[0m: 'list' object has no attribute 'items'"
     ]
    }
   ],
   "source": [
    "# Find Similar Words (appearing in similar contexts)\n",
    "from nltk import ContextIndex\n",
    "corpusOnlyChar = hf.preprocessText(combinedCorpus,onlyChar=True,lower=True,stopw=False,stem=False)\n",
    "reviewContextFull3W = ContextIndex(tokens=corpusOnlyChar.split(),context_func=hf.contextFunc3W)\n",
    "reviewContextFull2W = ContextIndex(tokens=corpusOnlyChar.split(),context_func=hf.contextFunc2W)\n",
    "reviewContextStop2W = ContextIndex(tokens=corpusNoStop.split(),context_func=hf.contextFunc2W)\n",
    "\n",
    "word = 'suite'\n",
    "similarWords = hf.getSimilarWords(word, reviewContextFull3W, reviewContextFull2W, reviewContextStop2W, numWords=20)\n",
    "\n",
    "similarWords = similarWords.to_dict()\n",
    "similarWordsDict = [similarWords[di] for di in similarWords]\n",
    "print('Here is a list of words associated with '+ word)\n",
    "freqCloud = WordCloud(background_color='white',\n",
    "                      width=1000,\n",
    "                      height=800,\n",
    "                      scale = 5,\n",
    "                      random_state=10,\n",
    "                      min_font_size=6).generate_from_frequencies(similarWordsDict)\n",
    "plt.imshow(freqCloud)\n",
    "plt.axis('off')\n",
    "plt.show()"
   ]
  },
  {
   "cell_type": "code",
   "execution_count": 33,
   "metadata": {},
   "outputs": [
    {
     "data": {
      "text/plain": [
       "{'Score': {0: 0.11732661122981355,\n",
       "  1: 0.053400482850884792,\n",
       "  2: 0.02541308516389449,\n",
       "  3: 0.016084902253950175,\n",
       "  4: 0.04392988439656121,\n",
       "  5: 0.055867352982583274,\n",
       "  6: 0.044213303005571289,\n",
       "  7: 0.052851377628767723,\n",
       "  8: 0.022383435925520574,\n",
       "  9: 0.065060714865793179,\n",
       "  10: 0.056481279938435845,\n",
       "  11: 0.077435728427836706,\n",
       "  12: 0.035416340908855551,\n",
       "  13: 0.063947701081152858,\n",
       "  14: 0.032123727964985388,\n",
       "  15: 0.04051071112825743,\n",
       "  16: 0.08584211230726782,\n",
       "  17: 0.041957522239980914,\n",
       "  18: 0.03508393497882363,\n",
       "  19: 0.034669790721063479},\n",
       " 'Word': {0: 'room',\n",
       "  1: 'staff',\n",
       "  2: 'bed',\n",
       "  3: 'hotel',\n",
       "  4: 'food',\n",
       "  5: 'bathroom',\n",
       "  6: 'stay',\n",
       "  7: 'concierge',\n",
       "  8: 'service',\n",
       "  9: 'lounge',\n",
       "  10: 'center',\n",
       "  11: 'bellman',\n",
       "  12: 'view',\n",
       "  13: 'help',\n",
       "  14: 'lobby',\n",
       "  15: 'door',\n",
       "  16: 'waiter',\n",
       "  17: 'shower',\n",
       "  18: 'price',\n",
       "  19: 'city'}}"
      ]
     },
     "execution_count": 33,
     "metadata": {},
     "output_type": "execute_result"
    }
   ],
   "source": [
    "similarWords"
   ]
  },
  {
   "cell_type": "code",
   "execution_count": null,
   "metadata": {},
   "outputs": [],
   "source": [
    "\n",
    "\n",
    "\n",
    "\n",
    "\n",
    "\n",
    "\n",
    "\n",
    "# Find Collocated Words (words appearing together in a phrase)\n",
    "from nltk.collocations import BigramCollocationFinder\n",
    "windowSize = 3\n",
    "finder = BigramCollocationFinder.from_words(corpusStem.split(), windowSize)\n",
    "collocationWords = hf.getCollocatedWords(finder,unstemDict,numPairs=10)\n",
    "print('Done Finding Collocated words')\n",
    "\n",
    "# Find Contextual Sentiments\n",
    "reviewsDF['cleanReview'] = reviewsDF['FullReview'].apply(hf.preprocessText)\n",
    "mostFreqWords = hf.getMostFrequentWords(reviewsDF['cleanReview'],unstemDict,5)\n",
    "posTaggedWords = nltk.pos_tag(list(mostFreqWords.index))\n",
    "hotelWords = [w for w,tag in posTaggedWords if tag == 'NN']\n",
    "reviewSentiments = hf.getContextualSentiment(reviewsDF['FullReview'][1], domainWords = hotelWords)\n",
    "print('Done building sentiment analyzer')\n",
    "\n",
    "# Get similar word clusters along with topic\n",
    "cleanReview = reviewsDF['FullReview'].apply(hf.preprocessText,stopw=True,minLen = False)\n",
    "cleanReview = cleanReview.str.cat(sep=' ')\n",
    "maxClusters = 10\n",
    "clusterDict = hf.getThemeClusters(cleanReview,mostFreqWords,unstemDict,maxClusters)\n",
    "print('Done clustering similar terms and assigning topic')"
   ]
  }
 ],
 "metadata": {
  "kernelspec": {
   "display_name": "Python 3",
   "language": "python",
   "name": "python3"
  },
  "language_info": {
   "codemirror_mode": {
    "name": "ipython",
    "version": 3
   },
   "file_extension": ".py",
   "mimetype": "text/x-python",
   "name": "python",
   "nbconvert_exporter": "python",
   "pygments_lexer": "ipython3",
   "version": "3.6.1"
  }
 },
 "nbformat": 4,
 "nbformat_minor": 2
}
